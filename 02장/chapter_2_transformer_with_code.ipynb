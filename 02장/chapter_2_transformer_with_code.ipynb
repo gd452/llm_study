{
 "cells": [
  {
   "cell_type": "markdown",
   "metadata": {
    "id": "mr7FmYqAi6y2"
   },
   "source": [
    "## 예제 2.1 토큰화 코드"
   ]
  },
  {
   "cell_type": "code",
   "execution_count": null,
   "metadata": {},
   "outputs": [
    {
     "name": "stdout",
     "output_type": "stream",
     "text": [
      "[0.65900114 0.24243297 0.09856589]\n"
     ]
    }
   ],
   "source": [
    "import numpy as np\n",
    "\n",
    "def softmax(z):\n",
    "    exp_z = np.exp(z - np.max(z))  # 오버플로우 방지\n",
    "    return exp_z / exp_z.sum(axis=0)\n",
    "\n",
    "# 입력 예시\n",
    "z = np.array([2.0, 1.0, 0.1])\n",
    "output = softmax(z)\n",
    "print(output)"
   ]
  },
  {
   "cell_type": "code",
   "execution_count": 2,
   "metadata": {
    "colab": {
     "base_uri": "https://localhost:8080/"
    },
    "id": "f3K1on7SMnXj",
    "outputId": "a4b9cbbd-279d-4f1b-a0f8-fc5e32bb70db"
   },
   "outputs": [
    {
     "name": "stdout",
     "output_type": "stream",
     "text": [
      "input_text_list:  ['나는', '최근', '파리', '여행을', '다녀왔다']\n",
      "str2idx:  {'나는': 0, '최근': 1, '파리': 2, '여행을': 3, '다녀왔다': 4}\n",
      "idx2str:  {0: '나는', 1: '최근', 2: '파리', 3: '여행을', 4: '다녀왔다'}\n",
      "input_ids:  [0, 1, 2, 3, 4]\n"
     ]
    }
   ],
   "source": [
    "# 띄어쓰기 단위로 분리\n",
    "input_text = \"나는 최근 파리 여행을 다녀왔다\"\n",
    "input_text_list = input_text.split()\n",
    "print(\"input_text_list: \", input_text_list)\n",
    "\n",
    "# 토큰 -> 아이디 딕셔너리와 아이디 -> 토큰 딕셔너리 만들기\n",
    "str2idx = {word:idx for idx, word in enumerate(input_text_list)}\n",
    "idx2str = {idx:word for idx, word in enumerate(input_text_list)}\n",
    "print(\"str2idx: \", str2idx)\n",
    "print(\"idx2str: \", idx2str)\n",
    "\n",
    "# 토큰을 토큰 아이디로 변환\n",
    "input_ids = [str2idx[word] for word in input_text_list]\n",
    "print(\"input_ids: \", input_ids)"
   ]
  },
  {
   "cell_type": "markdown",
   "metadata": {
    "id": "CX95psBGjELL"
   },
   "source": [
    "## 예제 2.2 토큰 아이디에서 벡터로 변환"
   ]
  },
  {
   "cell_type": "code",
   "execution_count": 12,
   "metadata": {
    "colab": {
     "base_uri": "https://localhost:8080/"
    },
    "id": "dCKTtOt9NvFA",
    "outputId": "66e59720-871a-475f-e966-9a1fc31e37a9"
   },
   "outputs": [
    {
     "name": "stdout",
     "output_type": "stream",
     "text": [
      "embed_layer:  Embedding(5, 16)\n",
      "input_ids:  [0, 1, 2, 3, 4]\n"
     ]
    },
    {
     "data": {
      "text/plain": [
       "torch.Size([1, 5, 16])"
      ]
     },
     "execution_count": 12,
     "metadata": {},
     "output_type": "execute_result"
    }
   ],
   "source": [
    "import torch\n",
    "import torch.nn as nn\n",
    "\n",
    "embedding_dim = 16\n",
    "embed_layer = nn.Embedding(len(str2idx), embedding_dim)\n",
    "print(\"embed_layer: \", embed_layer)\n",
    "\n",
    "input_embeddings = embed_layer(torch.tensor(input_ids)) # (5, 16)\n",
    "input_embeddings = input_embeddings.unsqueeze(0) # (1, 5, 16)\n",
    "input_embeddings.shape\n"
   ]
  },
  {
   "cell_type": "markdown",
   "metadata": {
    "id": "FwClYMSSjLjp"
   },
   "source": [
    "## 예제 2.3 절대적 위치 인코딩"
   ]
  },
  {
   "cell_type": "code",
   "execution_count": 15,
   "metadata": {
    "colab": {
     "base_uri": "https://localhost:8080/"
    },
    "id": "ws1A-ALkjLWH",
    "outputId": "a83d2e96-8bad-461c-bc7f-ac59e65a2fcf"
   },
   "outputs": [
    {
     "name": "stdout",
     "output_type": "stream",
     "text": [
      "position_ids:  tensor([[0, 1, 2, 3, 4]])\n"
     ]
    },
    {
     "data": {
      "text/plain": [
       "torch.Size([1, 5, 16])"
      ]
     },
     "execution_count": 15,
     "metadata": {},
     "output_type": "execute_result"
    }
   ],
   "source": [
    "embedding_dim = 16\n",
    "max_position = 12\n",
    "# 토큰 임베딩 층 생성\n",
    "embed_layer = nn.Embedding(len(str2idx), embedding_dim)\n",
    "# 위치 인코딩 층 생성\n",
    "position_embed_layer = nn.Embedding(max_position, embedding_dim)\n",
    "\n",
    "position_ids = torch.arange(len(input_ids), dtype=torch.long).unsqueeze(0)\n",
    "position_encodings = position_embed_layer(position_ids)\n",
    "\n",
    "token_embeddings = embed_layer(torch.tensor(input_ids)) # (5, 16)\n",
    "token_embeddings = token_embeddings.unsqueeze(0) # (1, 5, 16)\n",
    "# 토큰 임베딩과 위치 인코딩을 더해 최종 입력 임베딩 생성\n",
    "input_embeddings = token_embeddings + position_encodings\n",
    "input_embeddings.shape"
   ]
  },
  {
   "cell_type": "markdown",
   "metadata": {
    "id": "0MBYHKRMkCDs"
   },
   "source": [
    "## 예제 2.4 쿼리, 키, 값 벡터를 만드는 nn.Linear 층"
   ]
  },
  {
   "cell_type": "code",
   "execution_count": 20,
   "metadata": {},
   "outputs": [
    {
     "name": "stdout",
     "output_type": "stream",
     "text": [
      "output:  tensor([[ 0.0452,  0.8060, -0.5057, -0.3744, -0.6008],\n",
      "        [-0.0388, -0.4551,  0.6746, -0.5763, -0.3670],\n",
      "        [-0.0799,  0.2016,  0.5033, -0.0680, -0.1047]],\n",
      "       grad_fn=<AddmmBackward0>)\n",
      "torch.Size([3, 5])\n",
      "weight: torch.Size([5, 10])\n",
      "bias: torch.Size([5])\n"
     ]
    }
   ],
   "source": [
    "import torch\n",
    "import torch.nn as nn\n",
    "\n",
    "# 기본적인 Linear 층 생성\n",
    "linear = nn.Linear(in_features=10, out_features=5)\n",
    "\n",
    "# 입력 텐서 생성 (배치 크기=3, 입력 특성=10)\n",
    "x = torch.randn(3, 10)\n",
    "\n",
    "# Linear 층 통과\n",
    "output = linear(x)  # 결과 shape: (3, 5)\n",
    "print(output.shape)  # torch.Size([3, 5])\n",
    "\n",
    "# bias=False로 설정\n",
    "linear_no_bias = nn.Linear(in_features=10, out_features=5, bias=False)\n",
    "\n",
    "# 전체 파라미터 확인\n",
    "for name, param in linear.named_parameters():\n",
    "    print(f\"{name}: {param.shape}\")\n",
    "# weight: torch.Size([5, 10])\n",
    "# bias: torch.Size([5])"
   ]
  },
  {
   "cell_type": "code",
   "execution_count": 22,
   "metadata": {
    "id": "Rse5Xy6_jhok"
   },
   "outputs": [
    {
     "name": "stdout",
     "output_type": "stream",
     "text": [
      "input_embeddings.shape:  torch.Size([1, 5, 16])\n"
     ]
    }
   ],
   "source": [
    "head_dim = 16\n",
    "\n",
    "# 쿼리, 키, 값을 계산하기 위한 변환\n",
    "weight_q = nn.Linear(embedding_dim, head_dim)\n",
    "weight_k = nn.Linear(embedding_dim, head_dim)\n",
    "weight_v = nn.Linear(embedding_dim, head_dim)\n",
    "\n",
    "# 변환 수행\n",
    "print(\"input_embeddings.shape: \", input_embeddings.shape)\n",
    "querys = weight_q(input_embeddings) # (1, 5, 16)\n",
    "keys = weight_k(input_embeddings) # (1, 5, 16)\n",
    "values = weight_v(input_embeddings) # (1, 5, 16)"
   ]
  },
  {
   "cell_type": "markdown",
   "metadata": {
    "id": "wfitct-lkSP2"
   },
   "source": [
    "## 예제 2.5. 스케일 점곱 방식의 어텐션"
   ]
  },
  {
   "cell_type": "code",
   "execution_count": 31,
   "metadata": {
    "id": "nftEA3lFkSwl"
   },
   "outputs": [],
   "source": [
    "from math import sqrt\n",
    "import torch.nn.functional as F\n",
    "\n",
    "def compute_attention(querys, keys, values, is_causal=False):\n",
    "\tprint(\"compute_attention querys: \", querys.shape)\n",
    "\tdim_k = querys.size(-1) # 16\n",
    "\tscores = querys @ keys.transpose(-2, -1) / sqrt(dim_k)\n",
    "\tweights = F.softmax(scores, dim=-1)\n",
    "\treturn weights @ values"
   ]
  },
  {
   "cell_type": "markdown",
   "metadata": {
    "id": "CzHY8tvlkiTl"
   },
   "source": [
    "## 예제 2.6. 어텐션 연산의 입력과 출력"
   ]
  },
  {
   "cell_type": "code",
   "execution_count": 25,
   "metadata": {
    "colab": {
     "base_uri": "https://localhost:8080/"
    },
    "id": "h4evxbjRkfIi",
    "outputId": "44629901-1451-4491-a86b-25abc8a3e858"
   },
   "outputs": [
    {
     "name": "stdout",
     "output_type": "stream",
     "text": [
      "원본 입력 형태:  torch.Size([1, 5, 16])\n",
      "어텐션 적용 후 형태:  torch.Size([1, 5, 16])\n"
     ]
    }
   ],
   "source": [
    "print(\"원본 입력 형태: \", input_embeddings.shape)\n",
    "\n",
    "after_attention_embeddings = compute_attention(querys, keys, values)\n",
    "\n",
    "print(\"어텐션 적용 후 형태: \", after_attention_embeddings.shape)\n",
    "# 원본 입력 형태:  torch.Size([1, 5, 16])\n",
    "# 어텐션 적용 후 형태:  torch.Size([1, 5, 16])"
   ]
  },
  {
   "cell_type": "markdown",
   "metadata": {
    "id": "OKv4X9rsknXs"
   },
   "source": [
    "## 예제 2.7. 어텐션 연산을 수행하는 AttentionHead 클래스"
   ]
  },
  {
   "cell_type": "code",
   "execution_count": 37,
   "metadata": {
    "id": "3HWTZ4jukn5p"
   },
   "outputs": [
    {
     "name": "stdout",
     "output_type": "stream",
     "text": [
      "compute_attention querys:  torch.Size([1, 5, 16])\n"
     ]
    }
   ],
   "source": [
    "class AttentionHead(nn.Module):\n",
    "  def __init__(self, token_embed_dim, head_dim, is_causal=False):\n",
    "    super().__init__()\n",
    "    self.is_causal = is_causal\n",
    "    self.weight_q = nn.Linear(token_embed_dim, head_dim) # 쿼리 벡터 생성을 위한 선형 층\n",
    "    self.weight_k = nn.Linear(token_embed_dim, head_dim) # 키 벡터 생성을 위한 선형 층\n",
    "    self.weight_v = nn.Linear(token_embed_dim, head_dim) # 값 벡터 생성을 위한 선형 층\n",
    "\n",
    "  def forward(self, querys, keys, values):\n",
    "    outputs = compute_attention(\n",
    "        self.weight_q(querys),  # 쿼리 벡터\n",
    "        self.weight_k(keys),    # 키 벡터\n",
    "        self.weight_v(values),  # 값 벡터\n",
    "        is_causal=self.is_causal\n",
    "    )\n",
    "    return outputs\n",
    "\n",
    "attention_head = AttentionHead(embedding_dim, embedding_dim)\n",
    "after_attention_embeddings = attention_head(input_embeddings, input_embeddings, input_embeddings)"
   ]
  },
  {
   "cell_type": "markdown",
   "metadata": {
    "id": "30IXVnNElE2O"
   },
   "source": [
    "## 예제 2.8. 멀티 헤드 어텐션 구현"
   ]
  },
  {
   "cell_type": "code",
   "execution_count": 43,
   "metadata": {
    "colab": {
     "base_uri": "https://localhost:8080/"
    },
    "id": "a-qTbFVMlFND",
    "outputId": "cd7a3848-11ea-4e8e-cee4-8110592fd9a0"
   },
   "outputs": [
    {
     "name": "stdout",
     "output_type": "stream",
     "text": [
      "B:  1\n",
      "T:  5\n",
      "C:  16\n",
      "1 querys:  tensor([[[ 2.2129, -0.5000,  0.5174,  2.9489, -2.0554, -0.6110, -0.6287,\n",
      "          -0.6058, -0.0056,  0.0532, -0.1638,  1.1403, -1.3351, -0.4589,\n",
      "           1.7544,  2.1510],\n",
      "         [ 0.2801,  1.2514, -0.8081, -2.0081,  1.0375,  0.9524,  2.6491,\n",
      "           0.1452,  0.8113, -0.4663, -0.1214, -0.6813,  2.0180,  0.6097,\n",
      "           0.2583, -1.0219],\n",
      "         [-0.7237,  0.9359,  1.0526,  0.7410,  1.1729, -1.8789,  0.2757,\n",
      "          -0.4544,  1.5944, -1.7468, -0.1530, -0.7730,  2.0764,  1.4395,\n",
      "           2.0575,  0.5523],\n",
      "         [ 1.8209,  0.3717,  2.6062,  1.0481,  2.6610,  0.6889,  1.3901,\n",
      "          -0.4237,  1.2540,  1.0077, -1.5078, -2.9102, -1.7911, -1.6484,\n",
      "          -0.6820, -1.2528],\n",
      "         [-2.2427,  1.3579,  1.6401,  0.1396, -1.1336, -3.1810,  0.3224,\n",
      "          -0.2449, -1.1294, -0.1022,  0.6171, -2.5769,  1.2614,  0.6344,\n",
      "          -3.0727, -0.5727]]], grad_fn=<AddBackward0>)\n",
      "querys:  torch.Size([1, 4, 5, 4])\n",
      "keys:  torch.Size([1, 4, 5, 4])\n",
      "values:  torch.Size([1, 4, 5, 4])\n",
      "2 querys:  tensor([[[[-0.8486, -0.3469,  0.0574, -0.2326],\n",
      "          [ 1.0846,  0.3312, -0.7671, -0.1409],\n",
      "          [ 1.0391, -1.1568,  0.5835, -0.6280],\n",
      "          [ 1.2835,  1.3092, -0.7509,  0.2209],\n",
      "          [-0.1565,  0.3558,  0.7894,  1.6569]],\n",
      "\n",
      "         [[-0.1872,  1.0190,  0.8000, -0.6680],\n",
      "          [-0.6158, -0.1748, -0.0413,  0.5200],\n",
      "          [ 0.5609,  1.2372,  1.0227,  1.3992],\n",
      "          [-0.7512,  0.4570,  0.0620,  0.2025],\n",
      "          [ 0.8631,  0.1098,  1.2174,  2.3346]],\n",
      "\n",
      "         [[-0.2597, -1.2329,  0.9441, -0.2343],\n",
      "          [ 0.3245,  0.6706, -0.0390,  0.5063],\n",
      "          [ 0.4905,  0.0483, -0.0050, -0.2725],\n",
      "          [ 0.1993, -0.9495,  0.8791,  0.8742],\n",
      "          [-1.4931, -0.2646,  0.0251,  1.0217]],\n",
      "\n",
      "         [[-0.0637,  0.5154, -0.0513, -1.6539],\n",
      "          [-0.5299, -0.4440,  0.5808,  0.9468],\n",
      "          [-1.6573,  0.3609,  1.6112,  0.9656],\n",
      "          [ 0.4481, -0.9920, -0.1202, -0.0414],\n",
      "          [ 0.2337,  0.1701,  0.3591,  1.9506]]]],\n",
      "       grad_fn=<TransposeBackward0>)\n"
     ]
    },
    {
     "data": {
      "text/plain": [
       "torch.Size([1, 5, 16])"
      ]
     },
     "execution_count": 43,
     "metadata": {},
     "output_type": "execute_result"
    }
   ],
   "source": [
    "class MultiheadAttention(nn.Module):\n",
    "  def __init__(self, token_embed_dim, d_model, n_head, is_causal=False):\n",
    "    super().__init__()\n",
    "    self.n_head = n_head\n",
    "    self.is_causal = is_causal\n",
    "    self.weight_q = nn.Linear(token_embed_dim, d_model)\n",
    "    self.weight_k = nn.Linear(token_embed_dim, d_model)\n",
    "    self.weight_v = nn.Linear(token_embed_dim, d_model)\n",
    "    self.concat_linear = nn.Linear(d_model, d_model)\n",
    "\n",
    "  def forward(self, querys, keys, values):\n",
    "    B, T, C = querys.size()\n",
    "    print(\"B: \", B)\n",
    "    print(\"T: \", T)\n",
    "    print(\"C: \", C)\n",
    "    print(\"1 querys: \", querys)\n",
    "\n",
    "    querys = self.weight_q(querys).view(B, T, self.n_head, C // self.n_head).transpose(1, 2)\n",
    "    keys = self.weight_k(keys).view(B, T, self.n_head, C // self.n_head).transpose(1, 2)\n",
    "    values = self.weight_v(values).view(B, T, self.n_head, C // self.n_head).transpose(1, 2)\n",
    "    print(\"querys: \", querys.shape)\n",
    "    print(\"keys: \", keys.shape)\n",
    "    print(\"values: \", values.shape)\n",
    "    print(\"2 querys: \", querys)\n",
    "    attention = compute_attention(querys, keys, values, self.is_causal)\n",
    "    output = attention.transpose(1, 2).contiguous().view(B, T, C)\n",
    "    output = self.concat_linear(output)\n",
    "    return output\n",
    "\n",
    "n_head = 4\n",
    "mh_attention = MultiheadAttention(embedding_dim, embedding_dim, n_head)\n",
    "after_attention_embeddings = mh_attention(input_embeddings, input_embeddings, input_embeddings)\n",
    "after_attention_embeddings.shape"
   ]
  },
  {
   "cell_type": "markdown",
   "metadata": {
    "id": "iWtHyqa_mAtB"
   },
   "source": [
    "## 예제 2.9. 층 정규화 코드"
   ]
  },
  {
   "cell_type": "code",
   "execution_count": 39,
   "metadata": {
    "colab": {
     "base_uri": "https://localhost:8080/"
    },
    "id": "ikXwtWFBl5zw",
    "outputId": "93392ff7-2e59-4ac0-b817-615858508a3e"
   },
   "outputs": [
    {
     "data": {
      "text/plain": [
       "(tensor([[ 1.4901e-08,  7.4506e-09, -1.4901e-08,  2.2352e-08, -9.3132e-09]]),\n",
       " tensor([[1.0328, 1.0328, 1.0328, 1.0328, 1.0328]]))"
      ]
     },
     "execution_count": 39,
     "metadata": {},
     "output_type": "execute_result"
    }
   ],
   "source": [
    "norm = nn.LayerNorm(embedding_dim)\n",
    "norm_x = norm(input_embeddings)\n",
    "norm_x.shape # torch.Size([1, 5, 16])\n",
    "\n",
    "norm_x.mean(dim=-1).data, norm_x.std(dim=-1).data\n",
    "\n",
    "# (tensor([[ 2.2352e-08, -1.1176e-08, -7.4506e-09, -3.9116e-08, -1.8626e-08]]),\n",
    "#  tensor([[1.0328, 1.0328, 1.0328, 1.0328, 1.0328]]))"
   ]
  },
  {
   "cell_type": "markdown",
   "metadata": {
    "id": "nkeIvwCYnSOs"
   },
   "source": [
    "## 예제 2.10. 피드 포워드 층 코드"
   ]
  },
  {
   "cell_type": "code",
   "execution_count": 40,
   "metadata": {
    "id": "3e9702XvnSrT"
   },
   "outputs": [],
   "source": [
    "class PreLayerNormFeedForward(nn.Module):\n",
    "  def __init__(self, d_model, dim_feedforward, dropout):\n",
    "    super().__init__()\n",
    "    self.linear1 = nn.Linear(d_model, dim_feedforward) # 선형 층 1\n",
    "    self.linear2 = nn.Linear(dim_feedforward, d_model) # 선형 층 2\n",
    "    self.dropout1 = nn.Dropout(dropout) # 드랍아웃 층 1\n",
    "    self.dropout2 = nn.Dropout(dropout) # 드랍아웃 층 2\n",
    "    self.activation = nn.GELU() # 활성 함수\n",
    "    self.norm = nn.LayerNorm(d_model) # 층 정규화\n",
    "\n",
    "  def forward(self, src):\n",
    "    x = self.norm(src)\n",
    "    x = x + self.linear2(self.dropout1(self.activation(self.linear1(x))))\n",
    "    x = self.dropout2(x)\n",
    "    return x"
   ]
  },
  {
   "cell_type": "markdown",
   "metadata": {
    "id": "qq3eJqRInWWS"
   },
   "source": [
    "## 예제 2.11. 인코더 층"
   ]
  },
  {
   "cell_type": "code",
   "execution_count": 41,
   "metadata": {
    "id": "QNCFpdVknUVa"
   },
   "outputs": [],
   "source": [
    "class TransformerEncoderLayer(nn.Module):\n",
    "  def __init__(self, d_model, nhead, dim_feedforward, dropout):\n",
    "    super().__init__()\n",
    "    self.attn = MultiheadAttention(d_model, d_model, nhead) # 멀티 헤드 어텐션 클래스\n",
    "    self.norm1 = nn.LayerNorm(d_model) # 층 정규화\n",
    "    self.dropout1 = nn.Dropout(dropout) # 드랍아웃\n",
    "    self.feed_forward = PreLayerNormFeedForward(d_model, dim_feedforward, dropout) # 피드포워드\n",
    "\n",
    "  def forward(self, src):\n",
    "    norm_x = self.norm1(src)\n",
    "    attn_output = self.attn(norm_x, norm_x, norm_x)\n",
    "    x = src + self.dropout1(attn_output) # 잔차 연결\n",
    "\n",
    "    # 피드 포워드\n",
    "    x = self.feed_forward(x)\n",
    "    return x"
   ]
  },
  {
   "cell_type": "markdown",
   "metadata": {
    "id": "W7acyE0lnc5L"
   },
   "source": [
    "## 예제 2.12. 인코더 구현"
   ]
  },
  {
   "cell_type": "code",
   "execution_count": null,
   "metadata": {
    "id": "Ty7TTF55nYDr"
   },
   "outputs": [],
   "source": [
    "import copy\n",
    "def get_clones(module, N):\n",
    "  return nn.ModuleList([copy.deepcopy(module) for i in range(N)])\n",
    "\n",
    "class TransformerEncoder(nn.Module):\n",
    "  def __init__(self, encoder_layer, num_layers):\n",
    "    super().__init__()\n",
    "    self.layers = get_clones(encoder_layer, num_layers)\n",
    "    self.num_layers = num_layers\n",
    "    self.norm = norm\n",
    "\n",
    "  def forward(self, src):\n",
    "    output = src\n",
    "    for mod in self.layers:\n",
    "        output = mod(output)\n",
    "    return output"
   ]
  },
  {
   "cell_type": "markdown",
   "metadata": {
    "id": "2dJpZJGrnhMI"
   },
   "source": [
    "## 예제 2.13. 디코더에서 어텐션 연산(마스크 어텐션)"
   ]
  },
  {
   "cell_type": "code",
   "execution_count": 42,
   "metadata": {
    "id": "y2nBX5monelI"
   },
   "outputs": [],
   "source": [
    "def compute_attention(querys, keys, values, is_causal=False):\n",
    "\tdim_k = querys.size(-1) # 16\n",
    "\tscores = querys @ keys.transpose(-2, -1) / sqrt(dim_k) # (1, 5, 5)\n",
    "\tif is_causal:\n",
    "\t\tquery_length = querys.size(2)\n",
    "\t\tkey_length = keys.size(2)\n",
    "\t\ttemp_mask = torch.ones(query_length, key_length, dtype=torch.bool).tril(diagonal=0)\n",
    "\t\tscores = scores.masked_fill(temp_mask == False, float(\"-inf\"))\n",
    "\tweights = F.softmax(scores, dim=-1) # (1, 5, 5)\n",
    "\treturn weights @ values # (1, 5, 16)"
   ]
  },
  {
   "cell_type": "markdown",
   "metadata": {
    "id": "5jxCS_lunl_7"
   },
   "source": [
    "## 예제 2.14. 크로스 어텐션이 포함된 디코더 층"
   ]
  },
  {
   "cell_type": "code",
   "execution_count": 44,
   "metadata": {
    "id": "b7youbG9njnW"
   },
   "outputs": [],
   "source": [
    "class TransformerDecoderLayer(nn.Module):\n",
    "  def __init__(self, d_model, nhead, dim_feedforward=2048, dropout=0.1):\n",
    "    super().__init__()\n",
    "    self.self_attn = MultiheadAttention(d_model, d_model, nhead)\n",
    "    self.multihead_attn = MultiheadAttention(d_model, d_model, nhead)\n",
    "    self.feed_forward = PreLayerNormFeedForward(d_model, dim_feedforward, dropout)\n",
    "\n",
    "    self.norm1 = nn.LayerNorm(d_model)\n",
    "    self.norm2 = nn.LayerNorm(d_model)\n",
    "    self.dropout1 = nn.Dropout(dropout)\n",
    "    self.dropout2 = nn.Dropout(dropout)\n",
    "\n",
    "  def forward(self, tgt, encoder_output, is_causal=True):\n",
    "    # 셀프 어텐션 연산\n",
    "    x = self.norm1(tgt)\n",
    "    x = x + self.dropout1(self.self_attn(x, x, x, is_causal=is_causal))\n",
    "    # 크로스 어텐션 연산\n",
    "    x = self.norm2(x)\n",
    "    x = x + self.dropout2(self.multihead_attn(x, encoder_output, encoder_output))\n",
    "    # 피드 포워드 연산\n",
    "    x = self.feed_forward(x)\n",
    "    return x"
   ]
  },
  {
   "cell_type": "markdown",
   "metadata": {
    "id": "l218C0ZOnqDO"
   },
   "source": [
    "## 예제 2.15. 디코더 구현"
   ]
  },
  {
   "cell_type": "code",
   "execution_count": 45,
   "metadata": {
    "id": "7meGa10vnnw1"
   },
   "outputs": [],
   "source": [
    "import copy\n",
    "def get_clones(module, N):\n",
    "  return nn.ModuleList([copy.deepcopy(module) for i in range(N)])\n",
    "\n",
    "class TransformerDecoder(nn.Module):\n",
    "  def __init__(self, decoder_layer, num_layers):\n",
    "    super().__init__()\n",
    "    self.layers = get_clones(decoder_layer, num_layers)\n",
    "    self.num_layers = num_layers\n",
    "\n",
    "  def forward(self, tgt, src):\n",
    "    output = tgt\n",
    "    for mod in self.layers:\n",
    "        output = mod(tgt, src)\n",
    "    return output"
   ]
  }
 ],
 "metadata": {
  "colab": {
   "provenance": []
  },
  "kernelspec": {
   "display_name": "Python 3 (ipykernel)",
   "language": "python",
   "name": "python3"
  },
  "language_info": {
   "codemirror_mode": {
    "name": "ipython",
    "version": 3
   },
   "file_extension": ".py",
   "mimetype": "text/x-python",
   "name": "python",
   "nbconvert_exporter": "python",
   "pygments_lexer": "ipython3",
   "version": "3.12.2"
  }
 },
 "nbformat": 4,
 "nbformat_minor": 4
}
